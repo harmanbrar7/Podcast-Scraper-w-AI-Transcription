{
 "cells": [
  {
   "cell_type": "code",
   "execution_count": 16,
   "metadata": {},
   "outputs": [],
   "source": [
    "import requests\n",
    "import re\n",
    "import os\n",
    "from bs4 import BeautifulSoup"
   ]
  },
  {
   "cell_type": "code",
   "execution_count": null,
   "metadata": {},
   "outputs": [],
   "source": [
    "rss_feed_url = \"https://lexfridman.com/feed/podcast/\"\n",
    "\n",
    "page = requests.get(rss_feed_url)\n",
    "soup = BeautifulSoup(page.content, 'xml')"
   ]
  },
  {
   "cell_type": "code",
   "execution_count": 13,
   "metadata": {},
   "outputs": [],
   "source": [
    "podcast_items = soup.find_all('item')\n",
    "mp3_url = podcast_items[0].find('enclosure')['url']"
   ]
  },
  {
   "cell_type": "code",
   "execution_count": 14,
   "metadata": {},
   "outputs": [],
   "source": [
    "mp3_file = requests.get(mp3_url)\n",
    "with open('myfile.mp3', 'wb') as f:\n",
    "    f.write(mp3_file.content)\n"
   ]
  },
  {
   "cell_type": "code",
   "execution_count": 22,
   "metadata": {},
   "outputs": [],
   "source": [
    "os.mkdir('./downloads')"
   ]
  },
  {
   "cell_type": "code",
   "execution_count": 24,
   "metadata": {},
   "outputs": [],
   "source": [
    "count = 0\n",
    "for podcast in podcast_items:\n",
    "    if count == 3:\n",
    "        break\n",
    "    title = podcast.find('title').text\n",
    "    description = podcast.find('description').text\n",
    "    mp3_url = podcast.find('enclosure')['url']\n",
    "\n",
    "    if re.search('kanye', description, re.IGNORECASE ):\n",
    "        mp3_file = requests.get(mp3_url)\n",
    "        with open(f'./downloads/{title}.mp3', 'wb') as f:\n",
    "            f.write(mp3_file.content)\n",
    "        count += 1"
   ]
  },
  {
   "cell_type": "code",
   "execution_count": 25,
   "metadata": {},
   "outputs": [],
   "source": [
    "## Transcribe Podcasts"
   ]
  },
  {
   "cell_type": "code",
   "execution_count": 30,
   "metadata": {},
   "outputs": [],
   "source": [
    "api_key = os.environ['ASSEMBLY_AI_KEY']"
   ]
  },
  {
   "cell_type": "code",
   "execution_count": null,
   "metadata": {},
   "outputs": [],
   "source": [
    "def read_file(filename, chunk_size=5242880):\n",
    "    with open(filename, 'rb') as _file:\n",
    "        while True:\n",
    "            data = _file.read(chunk_size)\n",
    "            if not data:\n",
    "                break\n",
    "            yield data"
   ]
  },
  {
   "cell_type": "code",
   "execution_count": 31,
   "metadata": {},
   "outputs": [
    {
     "name": "stdout",
     "output_type": "stream",
     "text": [
      "#336 – Ben Shapiro: Politics, Kanye, Trump, Biden, Hitler, Extremism, and War.mp3\n",
      "{'upload_url': 'https://cdn.assemblyai.com/upload/61ba1df2-2b87-4b62-b543-0ac660fa742b'}\n",
      "#365 – Sam Harris: Trump, Pandemic, Twitter, Elon, Bret, IDW, Kanye, AI & UFOs.mp3\n",
      "{'upload_url': 'https://cdn.assemblyai.com/upload/3f5ba41a-29cb-4113-a14c-732c4e0f5e75'}\n",
      "#338 – Chamath Palihapitiya: Money, Success, Startups, Energy, Poker & Happiness.mp3\n",
      "{'upload_url': 'https://cdn.assemblyai.com/upload/84ad7de5-605a-4606-aa0c-783c1963035a'}\n"
     ]
    }
   ],
   "source": [
    "headers = {\n",
    "        \"authorization\": api_key, #\"YOUR-API-TOKEN\"\n",
    "        \"content-type\": \"application/json\"\n",
    "    }\n",
    "\n",
    "file_names = os.listdir('./downloads')\n",
    "output_ids = []\n",
    "for file in file_names:\n",
    "    file_path = f'./downloads/{file}'\n",
    "    print(file)\n",
    "    \n",
    "    response = requests.post('https://api.assemblyai.com/v2/upload',\n",
    "                            headers=headers,\n",
    "                            data=read_file(file_path))\n",
    "    \n",
    "\n",
    "\n",
    "    endpoint = \"https://api.assemblyai.com/v2/transcript\"\n",
    "    json = {\n",
    "        \"audio_url\": response.json()['upload_url'],\n",
    "        \"audio_start_from\": 300000,\n",
    "        \"audio_end_at\": 400000,\n",
    "}\n",
    "    \n",
    "    response = requests.post(endpoint, json=json, headers=headers)\n",
    "    output_ids.append(response.json()['id'])\n",
    "\n"
   ]
  },
  {
   "cell_type": "code",
   "execution_count": null,
   "metadata": {},
   "outputs": [],
   "source": [
    "import time\n",
    "\n",
    "for transcript_id in output_ids:\n",
    "\n",
    "    #you need to setup billing to access the usage reports, thats where you find the id for file in queue\n",
    "    endpoint = \"https://api.assemblyai.com/v2/transcript/:id\"\n",
    "\n",
    "\n",
    "    while True:\n",
    "        response = requests.get(endpoint, headers=headers)\n",
    "        status = response.json()['status']\n",
    "        if status == 'completed' :\n",
    "            print(\"Got Transcript\")\n",
    "            with open(f'./transcripts/{transcript_id}.txt', 'w') as f:\n",
    "                f.write(response.json()['text'])\n",
    "            break    \n",
    "        print(\"Did Not Recieve Transcript: try again in 3 minutes\")\n",
    "        time.sleep(180)\n",
    "\n",
    "\n",
    "\n"
   ]
  }
 ],
 "metadata": {
  "kernelspec": {
   "display_name": "Python 3",
   "language": "python",
   "name": "python3"
  },
  "language_info": {
   "codemirror_mode": {
    "name": "ipython",
    "version": 3
   },
   "file_extension": ".py",
   "mimetype": "text/x-python",
   "name": "python",
   "nbconvert_exporter": "python",
   "pygments_lexer": "ipython3",
   "version": "3.11.2"
  }
 },
 "nbformat": 4,
 "nbformat_minor": 2
}
